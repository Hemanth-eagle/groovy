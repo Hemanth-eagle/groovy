{
 "cells": [
  {
   "cell_type": "markdown",
   "metadata": {},
   "source": [
    "## Detection of size of body parts\n",
    "In this project we are going to use, image processing to calculate the size of body parts(shoulders), from the images and then predict the shirt size for the person.\n",
    "\n",
    "This Notebook is divided into parts-\n",
    "1. Crop the images into suitable size\n",
    "2. Image Segmentation\n",
    "3. Calcuate the distances between the extreme points\n",
    "4. Predict the shoulder width"
   ]
  },
  {
   "cell_type": "code",
   "execution_count": 2,
   "metadata": {},
   "outputs": [],
   "source": [
    "import numpy as np\n",
    "import cv2 as cv\n",
    "import scipy as sp\n",
    "import matplotlib.pyplot as plt"
   ]
  },
  {
   "cell_type": "markdown",
   "metadata": {},
   "source": [
    "We have made a dataset which contains images clicked as-\n",
    "- Distance between the subject and camera is approx. 75cm\n",
    "- Distance between the subject and camera is approx. 100cm\n",
    "- Distance between the subject and camera is approx. 200cm\n",
    "\n",
    "Nomenclature- 75cm: img75-1;\n",
    "              100cm: img100-1;\n",
    "              200cm: img200-1;\n",
    "where 1 is the number assigned to the subject"
   ]
  }
 ],
 "metadata": {
  "kernelspec": {
   "display_name": "Python 3",
   "language": "python",
   "name": "python3"
  },
  "language_info": {
   "codemirror_mode": {
    "name": "ipython",
    "version": 3
   },
   "file_extension": ".py",
   "mimetype": "text/x-python",
   "name": "python",
   "nbconvert_exporter": "python",
   "pygments_lexer": "ipython3",
   "version": "3.6.9"
  }
 },
 "nbformat": 4,
 "nbformat_minor": 4
}
